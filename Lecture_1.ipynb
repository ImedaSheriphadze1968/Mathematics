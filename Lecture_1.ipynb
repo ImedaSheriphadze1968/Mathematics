{
  "nbformat": 4,
  "nbformat_minor": 0,
  "metadata": {
    "colab": {
      "provenance": [],
      "gpuType": "T4",
      "authorship_tag": "ABX9TyOB+eCwhOC1bLmClmORezjv"
    },
    "kernelspec": {
      "name": "python3",
      "display_name": "Python 3"
    },
    "language_info": {
      "name": "python"
    },
    "accelerator": "GPU"
  },
  "cells": [
    {
      "cell_type": "markdown",
      "source": [
        "Пример кода на Python, который реализует описанный алгоритм для вычисления суммы кубов и суммы квадратов чисел от **1** до **n**:\n"
      ],
      "metadata": {
        "id": "6G7a5ikZUfdh"
      }
    },
    {
      "cell_type": "code",
      "source": [
        "def calculate_sums(n):\n",
        "    # Проверка, что n - натуральное число\n",
        "    if n < 1 or not isinstance(n, int):\n",
        "        return \"Ошибка: введите натуральное число (целое и больше 0).\"\n",
        "\n",
        "    # Вычисляем сумму чисел от 1 до n\n",
        "    sum_n = n * (n + 1) // 2\n",
        "\n",
        "    # Сумма кубов равна квадрату суммы чисел\n",
        "    sum_cubes = sum_n ** 2\n",
        "\n",
        "    # Сумма квадратов по формуле\n",
        "    sum_squares = n * (n + 1) * (2 * n + 1) // 6\n",
        "\n",
        "    return sum_cubes, sum_squares\n",
        "\n",
        "\n",
        "# Пример использования\n",
        "n = int(input(\"Введите натуральное число n: \"))\n",
        "result = calculate_sums(n)\n",
        "\n",
        "if isinstance(result, tuple):\n",
        "    sum_cubes, sum_squares = result\n",
        "    print(f\"Сумма кубов от 1 до {n}: {sum_cubes}\")\n",
        "    print(f\"Сумма квадратов от 1 до {n}: {sum_squares}\")\n",
        "else:\n",
        "    print(result)\n"
      ],
      "metadata": {
        "colab": {
          "base_uri": "https://localhost:8080/"
        },
        "id": "OR_THCnAURrp",
        "outputId": "e33ab0cc-bf19-4e81-c823-1a1c3baf253d"
      },
      "execution_count": 1,
      "outputs": [
        {
          "output_type": "stream",
          "name": "stdout",
          "text": [
            "Введите натуральное число n: 78\n",
            "Сумма кубов от 1 до 78: 9492561\n",
            "Сумма квадратов от 1 до 78: 161239\n"
          ]
        }
      ]
    },
    {
      "cell_type": "markdown",
      "source": [
        "**Объяснение кода:**\n",
        "\n",
        "\n",
        "*   Функция **calculate_sums(n)** принимает целое число **n**\n",
        "*   Проверяет, что **n** — натуральное число.\n",
        "*   Считает сумму чисел от **1** до **n**.\n",
        "*   Вычисляет сумму кубов по формуле S(n) = ((n*(n + 1)/ 2)^2\n",
        "*   Вычисляет сумму квадратов по формуле Q(n) = (n * (n + 1) * (2 * (n + 1)))/6\n",
        "*   Возвращает обе суммы как кортеж\n",
        "*   В основной части программы запрашивает у пользователя ввод числа, вызывает функцию, и выводит результат.\n",
        "\n",
        "\n",
        "\n",
        "\n",
        "\n",
        "\n",
        "\n",
        "\n"
      ],
      "metadata": {
        "id": "Xqb6xF6WUw9h"
      }
    }
  ]
}