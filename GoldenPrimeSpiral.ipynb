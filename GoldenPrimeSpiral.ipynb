{
  "nbformat": 4,
  "nbformat_minor": 0,
  "metadata": {
    "colab": {
      "provenance": [],
      "gpuType": "T4",
      "authorship_tag": "ABX9TyO67fxjJyJkVsvJAlEx1NfM"
    },
    "kernelspec": {
      "name": "python3",
      "display_name": "Python 3"
    },
    "language_info": {
      "name": "python"
    },
    "accelerator": "GPU"
  },
  "cells": [
    {
      "cell_type": "markdown",
      "source": [
        "**📝 Описание программы**\n",
        "\n",
        "**GoldenPrimeSpiral** — это уникальная Python-программа, которая строит красивую анимацию спирали простых чисел.\n",
        "Программа создаёт видео (MP4), где простые числа выделяются золотым цветом, а составные — плавным серым.\n",
        "Точки появляются постепенно, увеличиваются в размере, а в заголовке отображаются количество точек, число простых и их плотность.\n",
        "\n",
        "**🌟 Что делает программа:**\n",
        "\n",
        "1. Строит квадратную спираль натуральных чисел.\n",
        "\n",
        "2. Выделяет простые числа золотым цветом.\n",
        "\n",
        "3. Показывает плавную анимацию с увеличением размеров точек.\n",
        "\n",
        "4. Считает и отображает на экране количество простых и их плотность в реальном времени.\n",
        "\n",
        "5. Генерирует видео продолжительностью ~3 минуты, которое можно использовать для научных презентаций, обучения и популяризации математики.\n",
        "\n"
      ],
      "metadata": {
        "id": "TdxoCEyo3oa1"
      }
    },
    {
      "cell_type": "code",
      "source": [
        "!pip install matplotlib numpy\n",
        "\n",
        "import matplotlib.pyplot as plt\n",
        "import matplotlib.animation as animation\n",
        "import numpy as np\n",
        "\n",
        "# Параметры\n",
        "NUM_POINTS = 1500\n",
        "DURATION = 180\n",
        "FPS = 30\n",
        "\n",
        "# Проверка простого числа\n",
        "def is_prime(n):\n",
        "    if n < 2:\n",
        "        return False\n",
        "    for i in range(2, int(n ** 0.5) + 1):\n",
        "        if n % i == 0:\n",
        "            return False\n",
        "    return True\n",
        "\n",
        "# Спираль и цвета\n",
        "x, y = 0, 0\n",
        "dx, dy = 0, -1\n",
        "coords, primes = [], []\n",
        "\n",
        "for n in range(1, NUM_POINTS + 1):\n",
        "    coords.append((x, y))\n",
        "    primes.append(is_prime(n))\n",
        "    if (x == y) or (x < 0 and x == -y) or (x > 0 and x == 1 - y):\n",
        "        dx, dy = -dy, dx\n",
        "    x += dx\n",
        "    y += dy\n",
        "\n",
        "coords = np.array(coords)\n",
        "primes = np.array(primes)\n",
        "\n",
        "# Градиентная схема (простые золотые, составные плавно серые)\n",
        "base_colors = np.array([\n",
        "    [1.0, 0.84, 0.0] if p else [0.7, 0.7, 0.7] for p in primes\n",
        "])\n",
        "\n",
        "# График\n",
        "fig, ax = plt.subplots(figsize=(8, 8))\n",
        "ax.axis('off')\n",
        "ax.set_xlim(coords[:, 0].min() - 1, coords[:, 0].max() + 1)\n",
        "ax.set_ylim(coords[:, 1].min() - 1, coords[:, 1].max() + 1)\n",
        "title = ax.text(0.5, 1.05, '', transform=ax.transAxes, ha='center', fontsize=14)\n",
        "\n",
        "sc = ax.scatter([], [], s=[], c=[])\n",
        "\n",
        "def init():\n",
        "    sc.set_offsets(np.empty((0, 2)))\n",
        "    sc.set_sizes([])\n",
        "    sc.set_color([])\n",
        "    title.set_text('')\n",
        "    return sc, title\n",
        "\n",
        "def update(frame):\n",
        "    current_coords = coords[:frame]\n",
        "    current_colors = base_colors[:frame]\n",
        "    # Размер — плавно от 10 до 40\n",
        "    sizes = np.linspace(10, 40, frame)\n",
        "    sc.set_offsets(current_coords)\n",
        "    sc.set_color(current_colors)\n",
        "    sc.set_sizes(sizes)\n",
        "\n",
        "    # Обновление текста\n",
        "    prime_count = primes[:frame].sum()\n",
        "    density = prime_count / frame\n",
        "    title.set_text(f'🌟 Точек: {frame} | Простых: {prime_count} | Плотность: {density:.4f}')\n",
        "\n",
        "    return sc, title\n",
        "\n",
        "interval = DURATION * 1000 / NUM_POINTS\n",
        "ani = animation.FuncAnimation(\n",
        "    fig, update, frames=range(1, NUM_POINTS + 1),\n",
        "    init_func=init, interval=interval, blit=False\n",
        ")\n",
        "\n",
        "ani.save('prime_spiral_effects.mp4', writer='ffmpeg', fps=FPS)\n",
        "plt.close()\n",
        "print(\"✅ Видео успешно создано: prime_spiral_effects.mp4\")\n"
      ],
      "metadata": {
        "colab": {
          "base_uri": "https://localhost:8080/"
        },
        "id": "V1Xw8fvB0FAF",
        "outputId": "32c6a228-fc80-4158-d0c2-00466eaee354"
      },
      "execution_count": null,
      "outputs": [
        {
          "output_type": "stream",
          "name": "stdout",
          "text": [
            "Requirement already satisfied: matplotlib in /usr/local/lib/python3.11/dist-packages (3.10.0)\n",
            "Requirement already satisfied: numpy in /usr/local/lib/python3.11/dist-packages (2.0.2)\n",
            "Requirement already satisfied: contourpy>=1.0.1 in /usr/local/lib/python3.11/dist-packages (from matplotlib) (1.3.2)\n",
            "Requirement already satisfied: cycler>=0.10 in /usr/local/lib/python3.11/dist-packages (from matplotlib) (0.12.1)\n",
            "Requirement already satisfied: fonttools>=4.22.0 in /usr/local/lib/python3.11/dist-packages (from matplotlib) (4.58.1)\n",
            "Requirement already satisfied: kiwisolver>=1.3.1 in /usr/local/lib/python3.11/dist-packages (from matplotlib) (1.4.8)\n",
            "Requirement already satisfied: packaging>=20.0 in /usr/local/lib/python3.11/dist-packages (from matplotlib) (24.2)\n",
            "Requirement already satisfied: pillow>=8 in /usr/local/lib/python3.11/dist-packages (from matplotlib) (11.2.1)\n",
            "Requirement already satisfied: pyparsing>=2.3.1 in /usr/local/lib/python3.11/dist-packages (from matplotlib) (3.2.3)\n",
            "Requirement already satisfied: python-dateutil>=2.7 in /usr/local/lib/python3.11/dist-packages (from matplotlib) (2.9.0.post0)\n",
            "Requirement already satisfied: six>=1.5 in /usr/local/lib/python3.11/dist-packages (from python-dateutil>=2.7->matplotlib) (1.17.0)\n"
          ]
        },
        {
          "output_type": "stream",
          "name": "stderr",
          "text": [
            "<ipython-input-6-3277768743>:80: UserWarning: Glyph 127775 (\\N{GLOWING STAR}) missing from font(s) DejaVu Sans.\n",
            "  ani.save('prime_spiral_effects.mp4', writer='ffmpeg', fps=FPS)\n"
          ]
        },
        {
          "output_type": "stream",
          "name": "stdout",
          "text": [
            "✅ Видео успешно создано: prime_spiral_effects.mp4\n"
          ]
        }
      ]
    }
  ]
}