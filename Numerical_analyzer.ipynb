{
  "nbformat": 4,
  "nbformat_minor": 0,
  "metadata": {
    "colab": {
      "provenance": [],
      "gpuType": "T4",
      "authorship_tag": "ABX9TyOxfxp0mPe7T1EjLjstw1ys"
    },
    "kernelspec": {
      "name": "python3",
      "display_name": "Python 3"
    },
    "language_info": {
      "name": "python"
    },
    "accelerator": "GPU"
  },
  "cells": [
    {
      "cell_type": "code",
      "source": [
        "from IPython.display import display, Markdown\n",
        "import matplotlib.pyplot as plt\n",
        "\n",
        "def умножить_по_закономерности(число_str, множитель_str):\n",
        "    if not число_str.isdigit() or not множитель_str.isdigit():\n",
        "        raise ValueError(\"Введите только положительные целые числа.\")\n",
        "\n",
        "    число = list(map(int, число_str))\n",
        "    m_len = len(множитель_str)\n",
        "\n",
        "    display(Markdown(f\"---\\n### 🔢 Ввод:\\n- Число: **{число_str}**\\n- Множитель: **{множитель_str}**\"))\n",
        "\n",
        "    padded = [0] * (m_len - 1) + число + [0] * (m_len - 1)\n",
        "\n",
        "    суммы = []\n",
        "    for i in range(len(число) + m_len - 1):\n",
        "        окно = padded[i:i + m_len]\n",
        "        сумма = sum(окно)\n",
        "        суммы.append(сумма)\n",
        "\n",
        "    display(Markdown(\"### 🧮 Промежуточные суммы:\"))\n",
        "    display(Markdown(\" → \" + \" → \".join(str(s) for s in суммы)))\n",
        "\n",
        "    результат = []\n",
        "    перенос = 0\n",
        "    for s in reversed(суммы):\n",
        "        итог = s + перенос\n",
        "        результат.append(итог % 10)\n",
        "        перенос = итог // 10\n",
        "\n",
        "    while перенос > 0:\n",
        "        результат.append(перенос % 10)\n",
        "        перенос //= 10\n",
        "\n",
        "    результат = list(reversed(результат))\n",
        "    результат_str = ''.join(map(str, результат))\n",
        "\n",
        "    display(Markdown(\"### 📦 После переносов:\"))\n",
        "    display(Markdown(f\"`{', '.join(map(str, результат))}`\"))\n",
        "\n",
        "    display(Markdown(f\"## ✅ Финальный результат:\\n## 🎉 **{число_str} × {множитель_str} = `{результат_str}`**\"))\n",
        "    return int(результат_str)\n",
        "\n",
        "# ✅ Примеры\n",
        "результаты = []\n",
        "\n",
        "результаты.append(умножить_по_закономерности(\"25\", \"11\"))       # ОРН\n",
        "результаты.append(умножить_по_закономерности(\"89\", \"111\"))      # Оრნიშნა\n",
        "результаты.append(умножить_по_закономерности(\"1234\", \"1111\"))   # ოთხნიშნა\n",
        "результаты.append(умножить_по_закономерности(\"7654\", \"111\"))    # ოთხნიშნა\n",
        "\n",
        "# 📈 График зависимости длины числа от результата\n",
        "display(Markdown(\"---\\n## 📊 График зависимости длины числа от результата\"))\n",
        "\n",
        "длины = [2, 3, 4, 5, 6]\n",
        "значения = [умножить_по_закономерности(\"1\" * d, \"111\") for d in длины]\n",
        "\n",
        "plt.figure(figsize=(8,5))\n",
        "plt.plot(длины, значения, marker='o', color='green', linewidth=2)\n",
        "plt.title(\"Рост результата при увеличении длины числа (×111)\", fontsize=14)\n",
        "plt.xlabel(\"Количество цифр в числе\", fontsize=12)\n",
        "plt.ylabel(\"Результат\", fontsize=12)\n",
        "plt.grid(True)\n",
        "plt.xticks(длины)\n",
        "plt.show()\n"
      ],
      "metadata": {
        "colab": {
          "base_uri": "https://localhost:8080/",
          "height": 1000
        },
        "id": "uxmHCXf6wiCS",
        "outputId": "c85aeaa8-ea08-45ba-ed52-545299e2cf01"
      },
      "execution_count": 5,
      "outputs": [
        {
          "output_type": "display_data",
          "data": {
            "text/plain": [
              "<IPython.core.display.Markdown object>"
            ],
            "text/markdown": "---\n### 🔢 Ввод:\n- Число: **25**\n- Множитель: **11**"
          },
          "metadata": {}
        },
        {
          "output_type": "display_data",
          "data": {
            "text/plain": [
              "<IPython.core.display.Markdown object>"
            ],
            "text/markdown": "### 🧮 Промежуточные суммы:"
          },
          "metadata": {}
        },
        {
          "output_type": "display_data",
          "data": {
            "text/plain": [
              "<IPython.core.display.Markdown object>"
            ],
            "text/markdown": " → 2 → 7 → 5"
          },
          "metadata": {}
        },
        {
          "output_type": "display_data",
          "data": {
            "text/plain": [
              "<IPython.core.display.Markdown object>"
            ],
            "text/markdown": "### 📦 После переносов:"
          },
          "metadata": {}
        },
        {
          "output_type": "display_data",
          "data": {
            "text/plain": [
              "<IPython.core.display.Markdown object>"
            ],
            "text/markdown": "`2, 7, 5`"
          },
          "metadata": {}
        },
        {
          "output_type": "display_data",
          "data": {
            "text/plain": [
              "<IPython.core.display.Markdown object>"
            ],
            "text/markdown": "## ✅ Финальный результат:\n## 🎉 **25 × 11 = `275`**"
          },
          "metadata": {}
        },
        {
          "output_type": "display_data",
          "data": {
            "text/plain": [
              "<IPython.core.display.Markdown object>"
            ],
            "text/markdown": "---\n### 🔢 Ввод:\n- Число: **89**\n- Множитель: **111**"
          },
          "metadata": {}
        },
        {
          "output_type": "display_data",
          "data": {
            "text/plain": [
              "<IPython.core.display.Markdown object>"
            ],
            "text/markdown": "### 🧮 Промежуточные суммы:"
          },
          "metadata": {}
        },
        {
          "output_type": "display_data",
          "data": {
            "text/plain": [
              "<IPython.core.display.Markdown object>"
            ],
            "text/markdown": " → 8 → 17 → 17 → 9"
          },
          "metadata": {}
        },
        {
          "output_type": "display_data",
          "data": {
            "text/plain": [
              "<IPython.core.display.Markdown object>"
            ],
            "text/markdown": "### 📦 После переносов:"
          },
          "metadata": {}
        },
        {
          "output_type": "display_data",
          "data": {
            "text/plain": [
              "<IPython.core.display.Markdown object>"
            ],
            "text/markdown": "`9, 8, 7, 9`"
          },
          "metadata": {}
        },
        {
          "output_type": "display_data",
          "data": {
            "text/plain": [
              "<IPython.core.display.Markdown object>"
            ],
            "text/markdown": "## ✅ Финальный результат:\n## 🎉 **89 × 111 = `9879`**"
          },
          "metadata": {}
        },
        {
          "output_type": "display_data",
          "data": {
            "text/plain": [
              "<IPython.core.display.Markdown object>"
            ],
            "text/markdown": "---\n### 🔢 Ввод:\n- Число: **1234**\n- Множитель: **1111**"
          },
          "metadata": {}
        },
        {
          "output_type": "display_data",
          "data": {
            "text/plain": [
              "<IPython.core.display.Markdown object>"
            ],
            "text/markdown": "### 🧮 Промежуточные суммы:"
          },
          "metadata": {}
        },
        {
          "output_type": "display_data",
          "data": {
            "text/plain": [
              "<IPython.core.display.Markdown object>"
            ],
            "text/markdown": " → 1 → 3 → 6 → 10 → 9 → 7 → 4"
          },
          "metadata": {}
        },
        {
          "output_type": "display_data",
          "data": {
            "text/plain": [
              "<IPython.core.display.Markdown object>"
            ],
            "text/markdown": "### 📦 После переносов:"
          },
          "metadata": {}
        },
        {
          "output_type": "display_data",
          "data": {
            "text/plain": [
              "<IPython.core.display.Markdown object>"
            ],
            "text/markdown": "`1, 3, 7, 0, 9, 7, 4`"
          },
          "metadata": {}
        },
        {
          "output_type": "display_data",
          "data": {
            "text/plain": [
              "<IPython.core.display.Markdown object>"
            ],
            "text/markdown": "## ✅ Финальный результат:\n## 🎉 **1234 × 1111 = `1370974`**"
          },
          "metadata": {}
        },
        {
          "output_type": "display_data",
          "data": {
            "text/plain": [
              "<IPython.core.display.Markdown object>"
            ],
            "text/markdown": "---\n### 🔢 Ввод:\n- Число: **7654**\n- Множитель: **111**"
          },
          "metadata": {}
        },
        {
          "output_type": "display_data",
          "data": {
            "text/plain": [
              "<IPython.core.display.Markdown object>"
            ],
            "text/markdown": "### 🧮 Промежуточные суммы:"
          },
          "metadata": {}
        },
        {
          "output_type": "display_data",
          "data": {
            "text/plain": [
              "<IPython.core.display.Markdown object>"
            ],
            "text/markdown": " → 7 → 13 → 18 → 15 → 9 → 4"
          },
          "metadata": {}
        },
        {
          "output_type": "display_data",
          "data": {
            "text/plain": [
              "<IPython.core.display.Markdown object>"
            ],
            "text/markdown": "### 📦 После переносов:"
          },
          "metadata": {}
        },
        {
          "output_type": "display_data",
          "data": {
            "text/plain": [
              "<IPython.core.display.Markdown object>"
            ],
            "text/markdown": "`8, 4, 9, 5, 9, 4`"
          },
          "metadata": {}
        },
        {
          "output_type": "display_data",
          "data": {
            "text/plain": [
              "<IPython.core.display.Markdown object>"
            ],
            "text/markdown": "## ✅ Финальный результат:\n## 🎉 **7654 × 111 = `849594`**"
          },
          "metadata": {}
        },
        {
          "output_type": "display_data",
          "data": {
            "text/plain": [
              "<IPython.core.display.Markdown object>"
            ],
            "text/markdown": "---\n## 📊 График зависимости длины числа от результата"
          },
          "metadata": {}
        },
        {
          "output_type": "display_data",
          "data": {
            "text/plain": [
              "<IPython.core.display.Markdown object>"
            ],
            "text/markdown": "---\n### 🔢 Ввод:\n- Число: **11**\n- Множитель: **111**"
          },
          "metadata": {}
        },
        {
          "output_type": "display_data",
          "data": {
            "text/plain": [
              "<IPython.core.display.Markdown object>"
            ],
            "text/markdown": "### 🧮 Промежуточные суммы:"
          },
          "metadata": {}
        },
        {
          "output_type": "display_data",
          "data": {
            "text/plain": [
              "<IPython.core.display.Markdown object>"
            ],
            "text/markdown": " → 1 → 2 → 2 → 1"
          },
          "metadata": {}
        },
        {
          "output_type": "display_data",
          "data": {
            "text/plain": [
              "<IPython.core.display.Markdown object>"
            ],
            "text/markdown": "### 📦 После переносов:"
          },
          "metadata": {}
        },
        {
          "output_type": "display_data",
          "data": {
            "text/plain": [
              "<IPython.core.display.Markdown object>"
            ],
            "text/markdown": "`1, 2, 2, 1`"
          },
          "metadata": {}
        },
        {
          "output_type": "display_data",
          "data": {
            "text/plain": [
              "<IPython.core.display.Markdown object>"
            ],
            "text/markdown": "## ✅ Финальный результат:\n## 🎉 **11 × 111 = `1221`**"
          },
          "metadata": {}
        },
        {
          "output_type": "display_data",
          "data": {
            "text/plain": [
              "<IPython.core.display.Markdown object>"
            ],
            "text/markdown": "---\n### 🔢 Ввод:\n- Число: **111**\n- Множитель: **111**"
          },
          "metadata": {}
        },
        {
          "output_type": "display_data",
          "data": {
            "text/plain": [
              "<IPython.core.display.Markdown object>"
            ],
            "text/markdown": "### 🧮 Промежуточные суммы:"
          },
          "metadata": {}
        },
        {
          "output_type": "display_data",
          "data": {
            "text/plain": [
              "<IPython.core.display.Markdown object>"
            ],
            "text/markdown": " → 1 → 2 → 3 → 2 → 1"
          },
          "metadata": {}
        },
        {
          "output_type": "display_data",
          "data": {
            "text/plain": [
              "<IPython.core.display.Markdown object>"
            ],
            "text/markdown": "### 📦 После переносов:"
          },
          "metadata": {}
        },
        {
          "output_type": "display_data",
          "data": {
            "text/plain": [
              "<IPython.core.display.Markdown object>"
            ],
            "text/markdown": "`1, 2, 3, 2, 1`"
          },
          "metadata": {}
        },
        {
          "output_type": "display_data",
          "data": {
            "text/plain": [
              "<IPython.core.display.Markdown object>"
            ],
            "text/markdown": "## ✅ Финальный результат:\n## 🎉 **111 × 111 = `12321`**"
          },
          "metadata": {}
        },
        {
          "output_type": "display_data",
          "data": {
            "text/plain": [
              "<IPython.core.display.Markdown object>"
            ],
            "text/markdown": "---\n### 🔢 Ввод:\n- Число: **1111**\n- Множитель: **111**"
          },
          "metadata": {}
        },
        {
          "output_type": "display_data",
          "data": {
            "text/plain": [
              "<IPython.core.display.Markdown object>"
            ],
            "text/markdown": "### 🧮 Промежуточные суммы:"
          },
          "metadata": {}
        },
        {
          "output_type": "display_data",
          "data": {
            "text/plain": [
              "<IPython.core.display.Markdown object>"
            ],
            "text/markdown": " → 1 → 2 → 3 → 3 → 2 → 1"
          },
          "metadata": {}
        },
        {
          "output_type": "display_data",
          "data": {
            "text/plain": [
              "<IPython.core.display.Markdown object>"
            ],
            "text/markdown": "### 📦 После переносов:"
          },
          "metadata": {}
        },
        {
          "output_type": "display_data",
          "data": {
            "text/plain": [
              "<IPython.core.display.Markdown object>"
            ],
            "text/markdown": "`1, 2, 3, 3, 2, 1`"
          },
          "metadata": {}
        },
        {
          "output_type": "display_data",
          "data": {
            "text/plain": [
              "<IPython.core.display.Markdown object>"
            ],
            "text/markdown": "## ✅ Финальный результат:\n## 🎉 **1111 × 111 = `123321`**"
          },
          "metadata": {}
        },
        {
          "output_type": "display_data",
          "data": {
            "text/plain": [
              "<IPython.core.display.Markdown object>"
            ],
            "text/markdown": "---\n### 🔢 Ввод:\n- Число: **11111**\n- Множитель: **111**"
          },
          "metadata": {}
        },
        {
          "output_type": "display_data",
          "data": {
            "text/plain": [
              "<IPython.core.display.Markdown object>"
            ],
            "text/markdown": "### 🧮 Промежуточные суммы:"
          },
          "metadata": {}
        },
        {
          "output_type": "display_data",
          "data": {
            "text/plain": [
              "<IPython.core.display.Markdown object>"
            ],
            "text/markdown": " → 1 → 2 → 3 → 3 → 3 → 2 → 1"
          },
          "metadata": {}
        },
        {
          "output_type": "display_data",
          "data": {
            "text/plain": [
              "<IPython.core.display.Markdown object>"
            ],
            "text/markdown": "### 📦 После переносов:"
          },
          "metadata": {}
        },
        {
          "output_type": "display_data",
          "data": {
            "text/plain": [
              "<IPython.core.display.Markdown object>"
            ],
            "text/markdown": "`1, 2, 3, 3, 3, 2, 1`"
          },
          "metadata": {}
        },
        {
          "output_type": "display_data",
          "data": {
            "text/plain": [
              "<IPython.core.display.Markdown object>"
            ],
            "text/markdown": "## ✅ Финальный результат:\n## 🎉 **11111 × 111 = `1233321`**"
          },
          "metadata": {}
        },
        {
          "output_type": "display_data",
          "data": {
            "text/plain": [
              "<IPython.core.display.Markdown object>"
            ],
            "text/markdown": "---\n### 🔢 Ввод:\n- Число: **111111**\n- Множитель: **111**"
          },
          "metadata": {}
        },
        {
          "output_type": "display_data",
          "data": {
            "text/plain": [
              "<IPython.core.display.Markdown object>"
            ],
            "text/markdown": "### 🧮 Промежуточные суммы:"
          },
          "metadata": {}
        },
        {
          "output_type": "display_data",
          "data": {
            "text/plain": [
              "<IPython.core.display.Markdown object>"
            ],
            "text/markdown": " → 1 → 2 → 3 → 3 → 3 → 3 → 2 → 1"
          },
          "metadata": {}
        },
        {
          "output_type": "display_data",
          "data": {
            "text/plain": [
              "<IPython.core.display.Markdown object>"
            ],
            "text/markdown": "### 📦 После переносов:"
          },
          "metadata": {}
        },
        {
          "output_type": "display_data",
          "data": {
            "text/plain": [
              "<IPython.core.display.Markdown object>"
            ],
            "text/markdown": "`1, 2, 3, 3, 3, 3, 2, 1`"
          },
          "metadata": {}
        },
        {
          "output_type": "display_data",
          "data": {
            "text/plain": [
              "<IPython.core.display.Markdown object>"
            ],
            "text/markdown": "## ✅ Финальный результат:\n## 🎉 **111111 × 111 = `12333321`**"
          },
          "metadata": {}
        },
        {
          "output_type": "display_data",
          "data": {
            "text/plain": [
              "<Figure size 800x500 with 1 Axes>"
            ],
            "image/png": "[encoded data removed]"
          },
          "metadata": {}
        }
      ]
    }
  ]
}